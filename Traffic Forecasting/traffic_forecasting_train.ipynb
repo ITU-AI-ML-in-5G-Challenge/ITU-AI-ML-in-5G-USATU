{
 "cells": [
  {
   "cell_type": "code",
   "execution_count": 1,
   "metadata": {},
   "outputs": [
    {
     "name": "stderr",
     "output_type": "stream",
     "text": [
      "E:\\anaconda3\\lib\\site-packages\\tensorflow\\python\\framework\\dtypes.py:516: FutureWarning: Passing (type, 1) or '1type' as a synonym of type is deprecated; in a future version of numpy, it will be understood as (type, (1,)) / '(1,)type'.\n",
      "  _np_qint8 = np.dtype([(\"qint8\", np.int8, 1)])\n",
      "E:\\anaconda3\\lib\\site-packages\\tensorflow\\python\\framework\\dtypes.py:517: FutureWarning: Passing (type, 1) or '1type' as a synonym of type is deprecated; in a future version of numpy, it will be understood as (type, (1,)) / '(1,)type'.\n",
      "  _np_quint8 = np.dtype([(\"quint8\", np.uint8, 1)])\n",
      "E:\\anaconda3\\lib\\site-packages\\tensorflow\\python\\framework\\dtypes.py:518: FutureWarning: Passing (type, 1) or '1type' as a synonym of type is deprecated; in a future version of numpy, it will be understood as (type, (1,)) / '(1,)type'.\n",
      "  _np_qint16 = np.dtype([(\"qint16\", np.int16, 1)])\n",
      "E:\\anaconda3\\lib\\site-packages\\tensorflow\\python\\framework\\dtypes.py:519: FutureWarning: Passing (type, 1) or '1type' as a synonym of type is deprecated; in a future version of numpy, it will be understood as (type, (1,)) / '(1,)type'.\n",
      "  _np_quint16 = np.dtype([(\"quint16\", np.uint16, 1)])\n",
      "E:\\anaconda3\\lib\\site-packages\\tensorflow\\python\\framework\\dtypes.py:520: FutureWarning: Passing (type, 1) or '1type' as a synonym of type is deprecated; in a future version of numpy, it will be understood as (type, (1,)) / '(1,)type'.\n",
      "  _np_qint32 = np.dtype([(\"qint32\", np.int32, 1)])\n",
      "E:\\anaconda3\\lib\\site-packages\\tensorflow\\python\\framework\\dtypes.py:525: FutureWarning: Passing (type, 1) or '1type' as a synonym of type is deprecated; in a future version of numpy, it will be understood as (type, (1,)) / '(1,)type'.\n",
      "  np_resource = np.dtype([(\"resource\", np.ubyte, 1)])\n"
     ]
    },
    {
     "name": "stdout",
     "output_type": "stream",
     "text": [
      "Num GPUs Available:  1\n"
     ]
    },
    {
     "name": "stderr",
     "output_type": "stream",
     "text": [
      "E:\\anaconda3\\lib\\site-packages\\tensorboard\\compat\\tensorflow_stub\\dtypes.py:541: FutureWarning: Passing (type, 1) or '1type' as a synonym of type is deprecated; in a future version of numpy, it will be understood as (type, (1,)) / '(1,)type'.\n",
      "  _np_qint8 = np.dtype([(\"qint8\", np.int8, 1)])\n",
      "E:\\anaconda3\\lib\\site-packages\\tensorboard\\compat\\tensorflow_stub\\dtypes.py:542: FutureWarning: Passing (type, 1) or '1type' as a synonym of type is deprecated; in a future version of numpy, it will be understood as (type, (1,)) / '(1,)type'.\n",
      "  _np_quint8 = np.dtype([(\"quint8\", np.uint8, 1)])\n",
      "E:\\anaconda3\\lib\\site-packages\\tensorboard\\compat\\tensorflow_stub\\dtypes.py:543: FutureWarning: Passing (type, 1) or '1type' as a synonym of type is deprecated; in a future version of numpy, it will be understood as (type, (1,)) / '(1,)type'.\n",
      "  _np_qint16 = np.dtype([(\"qint16\", np.int16, 1)])\n",
      "E:\\anaconda3\\lib\\site-packages\\tensorboard\\compat\\tensorflow_stub\\dtypes.py:544: FutureWarning: Passing (type, 1) or '1type' as a synonym of type is deprecated; in a future version of numpy, it will be understood as (type, (1,)) / '(1,)type'.\n",
      "  _np_quint16 = np.dtype([(\"quint16\", np.uint16, 1)])\n",
      "E:\\anaconda3\\lib\\site-packages\\tensorboard\\compat\\tensorflow_stub\\dtypes.py:545: FutureWarning: Passing (type, 1) or '1type' as a synonym of type is deprecated; in a future version of numpy, it will be understood as (type, (1,)) / '(1,)type'.\n",
      "  _np_qint32 = np.dtype([(\"qint32\", np.int32, 1)])\n",
      "E:\\anaconda3\\lib\\site-packages\\tensorboard\\compat\\tensorflow_stub\\dtypes.py:550: FutureWarning: Passing (type, 1) or '1type' as a synonym of type is deprecated; in a future version of numpy, it will be understood as (type, (1,)) / '(1,)type'.\n",
      "  np_resource = np.dtype([(\"resource\", np.ubyte, 1)])\n"
     ]
    }
   ],
   "source": [
    "import pandas as pd\n",
    "import numpy as np\n",
    "import math\n",
    "import matplotlib.pyplot as plt\n",
    "%matplotlib inline\n",
    "\n",
    "import tensorflow as tf\n",
    "\n",
    "import warnings \n",
    "warnings.filterwarnings('ignore')\n",
    "print(\"Num GPUs Available: \", len(tf.config.experimental.list_physical_devices('GPU')))"
   ]
  },
  {
   "cell_type": "markdown",
   "metadata": {},
   "source": [
    "# Second Way to Prediction Data"
   ]
  },
  {
   "cell_type": "markdown",
   "metadata": {},
   "source": [
    "# Read Data"
   ]
  },
  {
   "cell_type": "code",
   "execution_count": 2,
   "metadata": {},
   "outputs": [
    {
     "name": "stdout",
     "output_type": "stream",
     "text": [
      "train_shape:  (242391, 4)\n",
      "test_shape:  (103907, 4)\n"
     ]
    }
   ],
   "source": [
    "train_data = pd.read_csv('dataset/train_data.csv', sep=';').dropna()\n",
    "test_data = pd.read_csv('dataset/test_data.csv', sep=';').dropna()\n",
    "\n",
    "train_data.columns = ['1','Time', 'Bytes', 'Packages']\n",
    "test_data.columns = ['1','Time', 'Bytes', 'Packages']\n",
    "print('train_shape: ',train_data.shape)\n",
    "print('test_shape: ',test_data.shape)"
   ]
  },
  {
   "cell_type": "code",
   "execution_count": 3,
   "metadata": {},
   "outputs": [],
   "source": [
    "# Отрбрасываем выбросы данных \n",
    "def clearData(dataset):\n",
    "    ind_missing = train_data[train_data['Bytes'] > 1039828].index\n",
    "    while len(ind_missing) != 0:\n",
    "        for index in ind_missing:\n",
    "            mean = (train_data[\"Bytes\"][index - 1] + train_data[\"Bytes\"][index + 1]) / 2\n",
    "            train_data[\"Bytes\"][index] = mean\n",
    "        ind_missing = train_data[train_data['Bytes'] > 1039828].index\n",
    "        \n",
    "    ind_missing = train_data[train_data['Packages'] > 2000].index\n",
    "    while len(ind_missing) != 0:\n",
    "        for index in ind_missing:\n",
    "            mean = (train_data[\"Packages\"][index - 1] + train_data[\"Packages\"][index + 1]) / 2\n",
    "            train_data[\"Packages\"][index] = mean\n",
    "        ind_missing = train_data[train_data['Packages'] > 2000].index\n",
    "    return dataset"
   ]
  },
  {
   "cell_type": "code",
   "execution_count": 4,
   "metadata": {},
   "outputs": [],
   "source": [
    "timeDelta = 3600\n",
    "LAST_COUNT = 6"
   ]
  },
  {
   "cell_type": "markdown",
   "metadata": {},
   "source": [
    "# Clean data from emissions"
   ]
  },
  {
   "cell_type": "code",
   "execution_count": 5,
   "metadata": {},
   "outputs": [],
   "source": [
    "train_data = clearData(train_data)\n",
    "test_data = clearData(test_data)"
   ]
  },
  {
   "cell_type": "code",
   "execution_count": 6,
   "metadata": {},
   "outputs": [
    {
     "data": {
      "text/plain": [
       "<matplotlib.axes._subplots.AxesSubplot at 0x265f2664e88>"
      ]
     },
     "execution_count": 6,
     "metadata": {},
     "output_type": "execute_result"
    },
    {
     "data": {
      "image/png": "[encoded data removed]",
      "text/plain": [
       "<Figure size 432x288 with 1 Axes>"
      ]
     },
     "metadata": {
      "needs_background": "light"
     },
     "output_type": "display_data"
    }
   ],
   "source": [
    "# Проверка разброса данных байтов\n",
    "train_data.boxplot(column=['Bytes'])"
   ]
  },
  {
   "cell_type": "code",
   "execution_count": 7,
   "metadata": {},
   "outputs": [
    {
     "data": {
      "text/plain": [
       "882298.0"
      ]
     },
     "execution_count": 7,
     "metadata": {},
     "output_type": "execute_result"
    }
   ],
   "source": [
    "train_data[\"Bytes\"].max()"
   ]
  },
  {
   "cell_type": "markdown",
   "metadata": {},
   "source": [
    "# Parametrs"
   ]
  },
  {
   "cell_type": "code",
   "execution_count": 8,
   "metadata": {},
   "outputs": [],
   "source": [
    "def findIndexWhereNextTime(startIndex, data, timeDelta):\n",
    "#     print(startIndex)\n",
    "    startIndex += 1\n",
    "    startTime = data[startIndex][1]\n",
    "    # Чтобы примерно попадать в интервал\n",
    "    offset = 50\n",
    "    for index in range(startIndex, len(data)):\n",
    "        time = data[index][1]\n",
    "        \n",
    "        if (startTime + timeDelta) == time:\n",
    "#             print(\"Delta Time == time\")\n",
    "            return index\n",
    "        \n",
    "        if time > (startTime + timeDelta - offset) and (time < (startTime + timeDelta + offset)):\n",
    "#             print(\"Time in interval between two indexes\")\n",
    "            return index\n",
    "        \n",
    "        if timeDelta < (time - data[index - 1][1]):\n",
    "#             print(\"Time delta Less than Interval\")\n",
    "            return index\n",
    "    \n",
    "    return None\n",
    "        \n",
    "def generateDatasetWithSumElements(dataset):\n",
    "    dataset = dataset.values\n",
    "    newDataset = []\n",
    "    \n",
    "    # current index \n",
    "    currentIndex = 0\n",
    "    time = dataset[currentIndex][1]\n",
    "    findNextIndex = findIndexWhereNextTime(currentIndex, dataset, timeDelta)\n",
    "    \n",
    "    while findNextIndex != None:\n",
    "        newBytes = dataset[currentIndex: findNextIndex][:,2].sum()\n",
    "        newPackages = dataset[currentIndex: findNextIndex][:,3].sum()\n",
    "        newDataset.append([time, newBytes, newPackages])\n",
    "        \n",
    "        currentIndex = findNextIndex\n",
    "        time = dataset[currentIndex][1]\n",
    "        findNextIndex = findIndexWhereNextTime(currentIndex, dataset, timeDelta)\n",
    "#         print(\"Current Index \", currentIndex, \" Next \", findNextIndex)\n",
    "    return newDataset\n"
   ]
  },
  {
   "cell_type": "code",
   "execution_count": 9,
   "metadata": {},
   "outputs": [],
   "source": [
    "train_dataset = np.array(generateDatasetWithSumElements(train_data))\n",
    "# избавляемся от первого непонятного всплеска\n",
    "# train_dataset = np.delete(train_dataset,0,0)"
   ]
  },
  {
   "cell_type": "code",
   "execution_count": 10,
   "metadata": {},
   "outputs": [
    {
     "data": {
      "image/png": "[encoded data removed]",
      "text/plain": [
       "<Figure size 432x288 with 1 Axes>"
      ]
     },
     "metadata": {
      "needs_background": "light"
     },
     "output_type": "display_data"
    }
   ],
   "source": [
    "f, ax = plt.subplots(1)\n",
    "xdata = train_dataset[:,0]\n",
    "ydata = train_dataset[:,1]\n",
    "ax.plot(xdata, ydata)\n",
    "# ax.set_ylim(train_dataset[:,1][1])\n",
    "plt.show(f)"
   ]
  },
  {
   "cell_type": "code",
   "execution_count": 11,
   "metadata": {},
   "outputs": [
    {
     "data": {
      "image/png": "[encoded data removed]",
      "text/plain": [
       "<Figure size 432x288 with 1 Axes>"
      ]
     },
     "metadata": {
      "needs_background": "light"
     },
     "output_type": "display_data"
    }
   ],
   "source": [
    "f, ax = plt.subplots(1)\n",
    "xdata = train_dataset[:,0]\n",
    "ydata = train_dataset[:,2]\n",
    "ax.plot(xdata, ydata)\n",
    "# ax.set_ylim(train_dataset[:,2][1])\n",
    "plt.show(f)"
   ]
  },
  {
   "cell_type": "code",
   "execution_count": 12,
   "metadata": {},
   "outputs": [
    {
     "data": {
      "text/plain": [
       "627632.0"
      ]
     },
     "execution_count": 12,
     "metadata": {},
     "output_type": "execute_result"
    }
   ],
   "source": [
    "train_dataset[:,2][2]\n",
    "# train_dataset = np.delete(train_dataset,1,1)train_dataset[:,0][0]"
   ]
  },
  {
   "cell_type": "code",
   "execution_count": 13,
   "metadata": {},
   "outputs": [],
   "source": [
    "train_dataset = np.delete(train_dataset,0,1)\n",
    "n = len(train_dataset)\n",
    "train_data = pd.DataFrame(train_dataset[0:int(n*0.7)], columns=[ 'Bytes', 'Packages'])\n",
    "val_data = pd.DataFrame(train_dataset[int(n*0.7):], columns=['Bytes', 'Packages'])\n",
    "# train_data = pd.DataFrame(train_dataset[0:int(n*0.7)], columns=[ 'Bytes'])\n",
    "# val_data = pd.DataFrame(train_dataset[int(n*0.7):], columns=['Bytes'])"
   ]
  },
  {
   "cell_type": "code",
   "execution_count": 14,
   "metadata": {},
   "outputs": [
    {
     "data": {
      "text/html": [
       "<div>\n",
       "<style scoped>\n",
       "    .dataframe tbody tr th:only-of-type {\n",
       "        vertical-align: middle;\n",
       "    }\n",
       "\n",
       "    .dataframe tbody tr th {\n",
       "        vertical-align: top;\n",
       "    }\n",
       "\n",
       "    .dataframe thead th {\n",
       "        text-align: right;\n",
       "    }\n",
       "</style>\n",
       "<table border=\"1\" class=\"dataframe\">\n",
       "  <thead>\n",
       "    <tr style=\"text-align: right;\">\n",
       "      <th></th>\n",
       "      <th>Bytes</th>\n",
       "      <th>Packages</th>\n",
       "    </tr>\n",
       "  </thead>\n",
       "  <tbody>\n",
       "    <tr>\n",
       "      <th>count</th>\n",
       "      <td>1.410000e+02</td>\n",
       "      <td>141.000000</td>\n",
       "    </tr>\n",
       "    <tr>\n",
       "      <th>mean</th>\n",
       "      <td>3.099016e+08</td>\n",
       "      <td>649034.869515</td>\n",
       "    </tr>\n",
       "    <tr>\n",
       "      <th>std</th>\n",
       "      <td>1.289023e+07</td>\n",
       "      <td>26985.472972</td>\n",
       "    </tr>\n",
       "    <tr>\n",
       "      <th>min</th>\n",
       "      <td>1.952545e+08</td>\n",
       "      <td>408810.500000</td>\n",
       "    </tr>\n",
       "    <tr>\n",
       "      <th>25%</th>\n",
       "      <td>3.050894e+08</td>\n",
       "      <td>638715.000000</td>\n",
       "    </tr>\n",
       "    <tr>\n",
       "      <th>50%</th>\n",
       "      <td>3.103292e+08</td>\n",
       "      <td>649844.000000</td>\n",
       "    </tr>\n",
       "    <tr>\n",
       "      <th>75%</th>\n",
       "      <td>3.157723e+08</td>\n",
       "      <td>661210.500000</td>\n",
       "    </tr>\n",
       "    <tr>\n",
       "      <th>max</th>\n",
       "      <td>3.338154e+08</td>\n",
       "      <td>699196.000000</td>\n",
       "    </tr>\n",
       "  </tbody>\n",
       "</table>\n",
       "</div>"
      ],
      "text/plain": [
       "              Bytes       Packages\n",
       "count  1.410000e+02     141.000000\n",
       "mean   3.099016e+08  649034.869515\n",
       "std    1.289023e+07   26985.472972\n",
       "min    1.952545e+08  408810.500000\n",
       "25%    3.050894e+08  638715.000000\n",
       "50%    3.103292e+08  649844.000000\n",
       "75%    3.157723e+08  661210.500000\n",
       "max    3.338154e+08  699196.000000"
      ]
     },
     "execution_count": 14,
     "metadata": {},
     "output_type": "execute_result"
    }
   ],
   "source": [
    "train_data.describe()"
   ]
  },
  {
   "cell_type": "markdown",
   "metadata": {},
   "source": [
    "# Normalized data"
   ]
  },
  {
   "cell_type": "code",
   "execution_count": null,
   "metadata": {},
   "outputs": [],
   "source": [
    "from sklearn.preprocessing import MaxAbsScaler\n",
    "\n",
    "# create an abs_scaler object\n",
    "abs_scaler = MaxAbsScaler()\n",
    "\n",
    "# calculate the maximum absolute value for scaling the data using the fit method\n",
    "abs_scaler.fit(train_data)\n",
    "\n",
    "# the maximum absolute values calculated by the fit method\n",
    "abs_scaler.max_abs_\n",
    "# array([4.0e+05, 1.7e+01])\n",
    "\n",
    "# transform the data using the parameters calculated by the fit method (the maximum absolute values)\n",
    "train_scaled_data = abs_scaler.transform(train_data)\n",
    "\n",
    "# store the results in a data frame\n",
    "normalizedTrain = pd.DataFrame(train_scaled_data, columns=train_data.columns)\n",
    "\n",
    "val_scaled_data = abs_scaler.transform(val_data)\n",
    "normalizedVal = pd.DataFrame(val_scaled_data, columns=val_data.columns)\n",
    "\n",
    "# visualize the data frame\n",
    "print(\"train shape =\", normalizedTrain.shape)\n",
    "print(\"val shape =\", normalizedVal.shape)"
   ]
  },
  {
   "cell_type": "code",
   "execution_count": null,
   "metadata": {},
   "outputs": [],
   "source": []
  },
  {
   "cell_type": "markdown",
   "metadata": {},
   "source": [
    "# Generate Dataset"
   ]
  },
  {
   "cell_type": "code",
   "execution_count": null,
   "metadata": {},
   "outputs": [],
   "source": [
    "def generateDataset(dataset):\n",
    "    x_train = []\n",
    "    y_train = []\n",
    "    \n",
    "    size = len(dataset) - LAST_COUNT - 1\n",
    "    for index in range(0, size):\n",
    "        x_train.append(list(dataset[index: index + LAST_COUNT]))\n",
    "        y_train.append(dataset[index + LAST_COUNT])\n",
    "    return (np.array(x_train), np.array(y_train))"
   ]
  },
  {
   "cell_type": "code",
   "execution_count": null,
   "metadata": {},
   "outputs": [],
   "source": [
    "X_train, y_train = generateDataset(normalizedTrain.values)\n",
    "X_val, y_val = generateDataset(normalizedVal.values)"
   ]
  },
  {
   "cell_type": "markdown",
   "metadata": {},
   "source": [
    "# Train Model"
   ]
  },
  {
   "cell_type": "code",
   "execution_count": null,
   "metadata": {},
   "outputs": [],
   "source": [
    "def compile_and_fit(model, trainX, trainY, validData, patience=100, MAX_EPOCHS = 100):\n",
    "    early_stopping = tf.keras.callbacks.EarlyStopping(monitor='val_loss',\n",
    "                                                    patience=patience,\n",
    "                                                    mode='auto')\n",
    "\n",
    "    model.compile(loss=tf.keras.losses.MeanSquaredError(),\n",
    "                optimizer=tf.keras.optimizers.SGD(learning_rate=0.01, momentum=0.1),\n",
    "                metrics=[tf.keras.metrics.MeanAbsolutePercentageError(),tf.keras.metrics.RootMeanSquaredError()])\n",
    "\n",
    "    history = model.fit(trainX, trainY,batch_size=24, epochs=MAX_EPOCHS,\n",
    "                      validation_data=validData,\n",
    "                      callbacks=[early_stopping])\n",
    "    return history"
   ]
  },
  {
   "cell_type": "code",
   "execution_count": null,
   "metadata": {},
   "outputs": [],
   "source": [
    "\n",
    "\n",
    "multi_step_dense = tf.keras.Sequential([\n",
    "    # Shape: (time, features) => (time*features)\n",
    "    tf.keras.layers.Flatten(),\n",
    "    tf.keras.layers.Dense(units=256, activation='relu'),\n",
    "    tf.keras.layers.Dense(units=2)\n",
    "    # Add back the time dimension.\n",
    "    # Shape: (outputs) => (1, outputs)\n",
    "#     tf.keras.layers.Reshape([1, -1]),\n",
    "])\n",
    "\n",
    "\n",
    "history = compile_and_fit(multi_step_dense, X_train, y_train, (X_val, y_val), MAX_EPOCHS= 100000)"
   ]
  },
  {
   "cell_type": "markdown",
   "metadata": {},
   "source": [
    "# test on trained data"
   ]
  },
  {
   "cell_type": "code",
   "execution_count": null,
   "metadata": {},
   "outputs": [],
   "source": [
    "predicted = multi_step_dense.predict(X_val)\n",
    "\n",
    "f, ax = plt.subplots(1)\n",
    "# xdata = y_test.values[:,0]\n",
    "ax.plot(y_val[:,0])\n",
    "ax.plot(predicted[:,0])\n",
    "# ax.set_ylim(train_dataset[:,2][1])\n",
    "plt.show(f)"
   ]
  },
  {
   "cell_type": "code",
   "execution_count": null,
   "metadata": {},
   "outputs": [],
   "source": [
    "predicted = multi_step_dense.predict(X_train)\n",
    "\n",
    "f, ax = plt.subplots(1)\n",
    "# xdata = y_test.values[:,0]\n",
    "ax.plot(y_train[:,0])\n",
    "ax.plot(predicted[:,0])\n",
    "# ax.set_ylim(train_dataset[:,2][1])\n",
    "plt.show(f)"
   ]
  },
  {
   "cell_type": "code",
   "execution_count": null,
   "metadata": {},
   "outputs": [],
   "source": [
    "predicted = multi_step_dense.predict(X_test)\n",
    "multi_step_dense.evaluate(X_test, y_test)"
   ]
  },
  {
   "cell_type": "code",
   "execution_count": null,
   "metadata": {},
   "outputs": [],
   "source": []
  },
  {
   "cell_type": "markdown",
   "metadata": {},
   "source": [
    "# Predict Test Dataset\n"
   ]
  },
  {
   "cell_type": "code",
   "execution_count": null,
   "metadata": {},
   "outputs": [],
   "source": [
    "predicted = multi_step_dense.predict(X_test)\n",
    "multi_step_dense.evaluate(X_test, y_test)"
   ]
  },
  {
   "cell_type": "code",
   "execution_count": null,
   "metadata": {},
   "outputs": [],
   "source": [
    "predicted = pd.DataFrame(predicted, columns=[ 'Bytes', 'Packages'])\n",
    "y_test = pd.DataFrame(y_test, columns=[ 'Bytes', 'Packages'])\n",
    "\n",
    "# y_test_un = unNormalizedData(y_test,trainMean, trainSTD)\n",
    "# predicted_un = unNormalizedData(predicted, trainMean, trainSTD)\n",
    "# predicted_un"
   ]
  },
  {
   "cell_type": "code",
   "execution_count": null,
   "metadata": {},
   "outputs": [],
   "source": [
    "plt.plot(y_test.values[:,0])"
   ]
  },
  {
   "cell_type": "code",
   "execution_count": null,
   "metadata": {},
   "outputs": [],
   "source": [
    "plt.plot((predicted).values[:,0])"
   ]
  },
  {
   "cell_type": "code",
   "execution_count": null,
   "metadata": {},
   "outputs": [],
   "source": [
    "f, ax = plt.subplots(1)\n",
    "xdata = y_test.values[:,0]\n",
    "ax.plot(xdata)\n",
    "ax.plot(predicted.values[:,0])\n",
    "# ax.set_ylim(train_dataset[:,2][1])\n",
    "plt.show(f)"
   ]
  },
  {
   "cell_type": "code",
   "execution_count": null,
   "metadata": {},
   "outputs": [],
   "source": [
    "def percentage_error(actual, predicted):\n",
    "    res = np.empty(actual.shape)\n",
    "    for j in range(actual.shape[0]):\n",
    "        if actual[j] != 0:\n",
    "            res[j] = (actual[j] - predicted[j]) / actual[j]\n",
    "        else:\n",
    "            res[j] = predicted[j] / np.mean(actual)\n",
    "    return res\n",
    "\n",
    "def mean_absolute_percentage_error(y_true, y_pred): \n",
    "    return np.mean(np.abs(percentage_error(np.asarray(y_true), np.asarray(y_pred)))) * 100\n",
    "\n",
    "# predicted_un = predicted_un * -1\n",
    "print(\"MAPE BYTES = \", mean_absolute_percentage_error(y_test.values[:,0], predicted.values[:,0]))\n",
    "print(\"MAPE PACKAGES = \", mean_absolute_percentage_error(y_test.values[:,1], predicted.values[:,1]))"
   ]
  },
  {
   "cell_type": "code",
   "execution_count": null,
   "metadata": {},
   "outputs": [],
   "source": [
    "inversed_predicted = abs_scaler.inverse_transform(predicted)\n",
    "inverse_y_test = abs_scaler.inverse_transform(y_test)\n",
    "\n",
    "print(\"Inversed MAPE BYTES = \", mean_absolute_percentage_error(inverse_y_test[:,0], inversed_predicted[:,0]))\n",
    "print(\"Inversed MAPE PACKAGES = \", mean_absolute_percentage_error(inverse_y_test[:,1], inversed_predicted[:,1]))"
   ]
  },
  {
   "cell_type": "code",
   "execution_count": null,
   "metadata": {},
   "outputs": [],
   "source": [
    "f, ax = plt.subplots(1)\n",
    "ax.plot(inverse_y_test[:,0])\n",
    "ax.plot(inversed_predicted[:,0])\n",
    "# ax.set_ylim(train_dataset[:,2][1])\n",
    "plt.show(f)"
   ]
  },
  {
   "cell_type": "markdown",
   "metadata": {},
   "source": [
    "# Save Model"
   ]
  },
  {
   "cell_type": "code",
   "execution_count": null,
   "metadata": {},
   "outputs": [],
   "source": [
    "multi_step_dense.save(\"ouput.h5\")"
   ]
  },
  {
   "cell_type": "code",
   "execution_count": null,
   "metadata": {},
   "outputs": [],
   "source": []
  },
  {
   "cell_type": "code",
   "execution_count": null,
   "metadata": {},
   "outputs": [],
   "source": []
  },
  {
   "cell_type": "code",
   "execution_count": null,
   "metadata": {},
   "outputs": [],
   "source": []
  },
  {
   "cell_type": "code",
   "execution_count": null,
   "metadata": {},
   "outputs": [],
   "source": []
  },
  {
   "cell_type": "code",
   "execution_count": null,
   "metadata": {},
   "outputs": [],
   "source": []
  },
  {
   "cell_type": "code",
   "execution_count": null,
   "metadata": {},
   "outputs": [],
   "source": []
  },
  {
   "cell_type": "code",
   "execution_count": null,
   "metadata": {},
   "outputs": [],
   "source": []
  }
 ],
 "metadata": {
  "kernelspec": {
   "display_name": "Python 3",
   "language": "python",
   "name": "python3"
  },
  "language_info": {
   "codemirror_mode": {
    "name": "ipython",
    "version": 3
   },
   "file_extension": ".py",
   "mimetype": "text/x-python",
   "name": "python",
   "nbconvert_exporter": "python",
   "pygments_lexer": "ipython3",
   "version": "3.7.6"
  }
 },
 "nbformat": 4,
 "nbformat_minor": 4
}
