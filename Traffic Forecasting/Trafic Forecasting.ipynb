{
 "cells": [
  {
   "cell_type": "markdown",
   "metadata": {},
   "source": [
    "# Imports"
   ]
  },
  {
   "cell_type": "code",
   "execution_count": 1,
   "metadata": {},
   "outputs": [],
   "source": [
    "import pandas as pd\n",
    "import numpy as np\n",
    "import math\n",
    "from sklearn.metrics import make_scorer, mean_squared_error\n",
    "from sklearn.metrics import accuracy_score\n",
    "from sklearn.model_selection import cross_val_score, KFold, train_test_split, cross_val_predict\n",
    "%matplotlib inline\n",
    "import matplotlib as mpl\n",
    "import matplotlib.pyplot as plt\n",
    "import seaborn as sns\n",
    "import tensorflow as tf\n",
    "import warnings \n",
    "warnings.filterwarnings('ignore')"
   ]
  },
  {
   "cell_type": "markdown",
   "metadata": {},
   "source": [
    "# Read Data"
   ]
  },
  {
   "cell_type": "code",
   "execution_count": 5,
   "metadata": {},
   "outputs": [
    {
     "name": "stdout",
     "output_type": "stream",
     "text": [
      "train_shape:  (242405, 4)\n",
      "test_shape:  (103910, 4)\n"
     ]
    }
   ],
   "source": [
    "#Считывание данных\n",
    "\n",
    "train_data = pd.read_csv('dataset/train_data.csv', sep=';').dropna()\n",
    "test_data = pd.read_csv('dataset/test_data.csv', sep=';').dropna()\n",
    "\n",
    "train_data.columns = ['1','2', 'Bytes', 'Packages']\n",
    "test_data.columns = ['1','2', 'Bytes', 'Packages']\n",
    "print('train_shape: ',train_data.shape)\n",
    "print('test_shape: ',test_data.shape)"
   ]
  },
  {
   "cell_type": "code",
   "execution_count": 6,
   "metadata": {},
   "outputs": [
    {
     "data": {
      "text/html": [
       "<div>\n",
       "<style scoped>\n",
       "    .dataframe tbody tr th:only-of-type {\n",
       "        vertical-align: middle;\n",
       "    }\n",
       "\n",
       "    .dataframe tbody tr th {\n",
       "        vertical-align: top;\n",
       "    }\n",
       "\n",
       "    .dataframe thead th {\n",
       "        text-align: right;\n",
       "    }\n",
       "</style>\n",
       "<table border=\"1\" class=\"dataframe\">\n",
       "  <thead>\n",
       "    <tr style=\"text-align: right;\">\n",
       "      <th></th>\n",
       "      <th>1</th>\n",
       "      <th>2</th>\n",
       "      <th>Bytes</th>\n",
       "      <th>Packages</th>\n",
       "    </tr>\n",
       "  </thead>\n",
       "  <tbody>\n",
       "    <tr>\n",
       "      <th>0</th>\n",
       "      <td>IoT</td>\n",
       "      <td>7708.0</td>\n",
       "      <td>221424.0</td>\n",
       "      <td>460.0</td>\n",
       "    </tr>\n",
       "    <tr>\n",
       "      <th>1</th>\n",
       "      <td>IoT</td>\n",
       "      <td>7714.0</td>\n",
       "      <td>221424.0</td>\n",
       "      <td>460.0</td>\n",
       "    </tr>\n",
       "    <tr>\n",
       "      <th>2</th>\n",
       "      <td>IoT</td>\n",
       "      <td>7717.0</td>\n",
       "      <td>108714.0</td>\n",
       "      <td>225.0</td>\n",
       "    </tr>\n",
       "    <tr>\n",
       "      <th>3</th>\n",
       "      <td>IoT</td>\n",
       "      <td>7729.0</td>\n",
       "      <td>216581.0</td>\n",
       "      <td>450.0</td>\n",
       "    </tr>\n",
       "    <tr>\n",
       "      <th>4</th>\n",
       "      <td>IoT</td>\n",
       "      <td>7735.0</td>\n",
       "      <td>217883.0</td>\n",
       "      <td>453.0</td>\n",
       "    </tr>\n",
       "  </tbody>\n",
       "</table>\n",
       "</div>"
      ],
      "text/plain": [
       "     1       2     Bytes  Packages\n",
       "0  IoT  7708.0  221424.0     460.0\n",
       "1  IoT  7714.0  221424.0     460.0\n",
       "2  IoT  7717.0  108714.0     225.0\n",
       "3  IoT  7729.0  216581.0     450.0\n",
       "4  IoT  7735.0  217883.0     453.0"
      ]
     },
     "execution_count": 6,
     "metadata": {},
     "output_type": "execute_result"
    }
   ],
   "source": [
    "train_data.head()"
   ]
  },
  {
   "cell_type": "markdown",
   "metadata": {},
   "source": [
    "# Functions generate dataset"
   ]
  },
  {
   "cell_type": "code",
   "execution_count": 9,
   "metadata": {},
   "outputs": [],
   "source": [
    "def getNewData(train_data):#Получение нового массива разделенного по времени на timeShift\n",
    "    newData = {\"Bytes\": [],\n",
    "          \"Packages\": []\n",
    "              }\n",
    "\n",
    "    timeShift = 3\n",
    "    values = train_data.values\n",
    "    for index in range(0, values.shape[0] - 1):\n",
    "#         if index % 1000 == 0:\n",
    "#             print(index, ' from ',  values.shape[0])\n",
    "            \n",
    "        value = values[index]\n",
    "        nextValue = values[index + 1]\n",
    "        #Сколько промежутков в этом интервале\n",
    "        differentTime = (nextValue[1] - value[1]) / timeShift\n",
    "        \n",
    "        if differentTime < 1:\n",
    "            newData[\"Bytes\"].append(value[2])\n",
    "            newData[\"Packages\"].append(value[3])\n",
    "            continue\n",
    "        \n",
    "        nextBytes = nextValue[2] / differentTime\n",
    "        nextPackages = nextValue[3] / differentTime\n",
    "        \n",
    "        if nextPackages == 0:\n",
    "            nextPackages = 1.0\n",
    "            \n",
    "        if math.isnan(value[1]) or math.isnan(nextValue[1]): \n",
    "            print(\"isNan\")\n",
    "            continue\n",
    "        if int(value[1]) > int(nextValue[1]):\n",
    "            print(\"func\")\n",
    "        \n",
    "        for time in range(int(value[1]), int(nextValue[1]), timeShift):#Time\n",
    "            newData[\"Bytes\"].append(nextBytes)\n",
    "            newData[\"Packages\"].append(nextPackages)\n",
    "            \n",
    "    return newData\n",
    "\n",
    "def generateDataset(data, ENTER_DATA_SIZE = 30):\n",
    "    # Получение данных для тренировки; X and Y \n",
    "    # X - [[Bytes, Packages], [Bytes, Packages] ...] * lastData\n",
    "    # Y - [Bytes, Packages]\n",
    "    x_train = []\n",
    "    y_train = []\n",
    "    size = data.shape[0]\n",
    "    for index in range(0, size - ENTER_DATA_SIZE, 1):\n",
    "#         if index % 1000 == 0: \n",
    "#             print(index, ' from ', size)\n",
    "        if index == 0:\n",
    "            x_train = [data[index:index+ENTER_DATA_SIZE].values]\n",
    "            y_train = data[index + ENTER_DATA_SIZE : index + ENTER_DATA_SIZE+ 1].values\n",
    "            continue\n",
    "#         print(x_train)\n",
    "        x_train.append(data[index:index+ENTER_DATA_SIZE].values)\n",
    "        y_train = np.append(y_train, data[index + ENTER_DATA_SIZE : index + ENTER_DATA_SIZE+ 1].values,axis=0 )\n",
    "    return np.array(x_train), y_train\n",
    "\n",
    "# Отрбрасываем выбросы данных \n",
    "def clearData(data):\n",
    "    ind_missing = data[data['Bytes'] > 20000000].index\n",
    "    data = data.drop(ind_missing, axis=0)\n",
    "    \n",
    "    ind_missing = data[data['Bytes'] < 20000].index\n",
    "    data = data.drop(ind_missing, axis=0)\n",
    "    data.boxplot(column=['Bytes'])\n",
    "    return data\n",
    "\n",
    "def plotNormalized(data):\n",
    "    df_std = (data - data.mean()) / data.std()\n",
    "    df_std = df_std.melt(var_name='Column', value_name='Normalized')\n",
    "    plt.figure(figsize=(12, 6))\n",
    "    ax = sns.violinplot(x='Column', y='Normalized', data=df_std)\n",
    "    _ = ax.set_xticklabels(data.keys(), rotation=90)\n",
    "    \n",
    "#Нормализовать данные\n",
    "def normalizeData(data, train_mean, train_std): \n",
    "    return (data - train_mean) / train_std\n",
    "\n",
    "#Вернуть данные в обратном\n",
    "def unNormalizedData(data, train_mean, train_std):\n",
    "    return (data * train_std) + train_mean"
   ]
  },
  {
   "cell_type": "markdown",
   "metadata": {},
   "source": [
    "# Clean data from outliers"
   ]
  },
  {
   "cell_type": "code",
   "execution_count": 11,
   "metadata": {},
   "outputs": [
    {
     "name": "stdout",
     "output_type": "stream",
     "text": [
      "train data shape (332714, 2)\n",
      "test data shape (279164, 2)\n"
     ]
    },
    {
     "data": {
      "image/png": "[encoded data removed]",
      "text/plain": [
       "<Figure size 432x288 with 1 Axes>"
      ]
     },
     "metadata": {
      "needs_background": "light"
     },
     "output_type": "display_data"
    }
   ],
   "source": [
    "# Получение новых данных\n",
    "clearedTimeShiftedTrainData = pd.DataFrame(getNewData(clearData(train_data)), columns = ['Bytes', 'Packages'])\n",
    "clearedTestShiftedTestData = pd.DataFrame(getNewData(clearData(test_data)), columns = ['Bytes', 'Packages'])\n",
    "print('train data shape', clearedTimeShiftedTrainData.shape)\n",
    "print('test data shape', clearedTestShiftedTestData.shape)"
   ]
  },
  {
   "cell_type": "code",
   "execution_count": 14,
   "metadata": {},
   "outputs": [
    {
     "data": {
      "text/plain": [
       "<matplotlib.axes._subplots.AxesSubplot at 0x7f904acb6f10>"
      ]
     },
     "execution_count": 14,
     "metadata": {},
     "output_type": "execute_result"
    },
    {
     "data": {
      "image/png": "[encoded data removed]",
      "text/plain": [
       "<Figure size 432x288 with 1 Axes>"
      ]
     },
     "metadata": {
      "needs_background": "light"
     },
     "output_type": "display_data"
    }
   ],
   "source": [
    "# Проверка разброса данных \n",
    "clearedTimeShiftedTrainData.boxplot(column=['Bytes'])"
   ]
  },
  {
   "cell_type": "code",
   "execution_count": 13,
   "metadata": {},
   "outputs": [
    {
     "data": {
      "image/png": "[encoded data removed]",
      "text/plain": [
       "<Figure size 864x432 with 1 Axes>"
      ]
     },
     "metadata": {
      "needs_background": "light"
     },
     "output_type": "display_data"
    }
   ],
   "source": [
    "plotNormalized(clearedTimeShiftedTrainData)"
   ]
  },
  {
   "cell_type": "markdown",
   "metadata": {},
   "source": [
    "# Generate Dataset with normalized values"
   ]
  },
  {
   "cell_type": "code",
   "execution_count": 15,
   "metadata": {},
   "outputs": [
    {
     "name": "stdout",
     "output_type": "stream",
     "text": [
      "Bytes       208250.691197\n",
      "Packages       435.958042\n",
      "dtype: float64 \n",
      " Bytes       143913.912763\n",
      "Packages       299.590957\n",
      "dtype: float64\n",
      "(232869, 30, 2)\n",
      "(232869, 2)\n"
     ]
    }
   ],
   "source": [
    "n = len(clearedTimeShiftedTrainData)\n",
    "train_df = clearedTimeShiftedTrainData[0:int(n*0.7)]\n",
    "val_df = clearedTimeShiftedTrainData[int(n*0.7):]\n",
    "\n",
    "clearedShiftedDataMean = train_df.mean()\n",
    "clearedShiftedDataStd = train_df.std()\n",
    "\n",
    "\n",
    "print(clearedShiftedDataMean,'\\n',clearedShiftedDataStd)\n",
    "train_df = normalizeData(train_df, clearedShiftedDataMean,clearedShiftedDataStd)\n",
    "val_df = normalizeData(val_df, clearedShiftedDataMean, clearedShiftedDataStd)\n",
    "\n",
    "ENTER_DATA_SIZE = 30\n",
    "X_train, y_train = generateDataset(train_df, ENTER_DATA_SIZE=ENTER_DATA_SIZE)\n",
    "X_val, y_val = generateDataset(val_df, ENTER_DATA_SIZE=ENTER_DATA_SIZE)\n",
    "print(X_train.shape)\n",
    "print(y_train.shape)"
   ]
  },
  {
   "cell_type": "markdown",
   "metadata": {},
   "source": [
    "# Train Model"
   ]
  },
  {
   "cell_type": "code",
   "execution_count": 16,
   "metadata": {},
   "outputs": [],
   "source": [
    "def compile_and_fit(model, trainX, trainY, validData, patience=10, MAX_EPOCHS = 10):\n",
    "    early_stopping = tf.keras.callbacks.EarlyStopping(monitor='val_loss',\n",
    "                                                    patience=patience,\n",
    "                                                    mode='auto')\n",
    "\n",
    "    model.compile(loss=tf.keras.losses.MeanSquaredError(),\n",
    "                optimizer=tf.keras.optimizers.SGD(learning_rate=0.075),\n",
    "                metrics=[tf.keras.metrics.MeanAbsolutePercentageError(),tf.keras.metrics.RootMeanSquaredError()])\n",
    "\n",
    "    history = model.fit(trainX, trainY, epochs=MAX_EPOCHS,\n",
    "                      validation_data=validData,\n",
    "                      callbacks=[early_stopping])\n",
    "    return history"
   ]
  },
  {
   "cell_type": "code",
   "execution_count": 17,
   "metadata": {},
   "outputs": [
    {
     "name": "stdout",
     "output_type": "stream",
     "text": [
      "Epoch 1/50\n",
      "7278/7278 [==============================] - 7s 918us/step - loss: 0.3499 - mean_absolute_percentage_error: 515.6801 - root_mean_squared_error: 0.5915 - val_loss: 0.3734 - val_mean_absolute_percentage_error: 1154.7860 - val_root_mean_squared_error: 0.6111\n",
      "Epoch 2/50\n",
      "7278/7278 [==============================] - 7s 897us/step - loss: 0.3072 - mean_absolute_percentage_error: 498.3002 - root_mean_squared_error: 0.5543 - val_loss: 0.2937 - val_mean_absolute_percentage_error: 548.8540 - val_root_mean_squared_error: 0.5419\n",
      "Epoch 3/50\n",
      "7278/7278 [==============================] - 6s 887us/step - loss: 0.2949 - mean_absolute_percentage_error: 487.3258 - root_mean_squared_error: 0.5430 - val_loss: 0.3446 - val_mean_absolute_percentage_error: 1059.4362 - val_root_mean_squared_error: 0.5870\n",
      "Epoch 4/50\n",
      "7278/7278 [==============================] - 7s 917us/step - loss: 0.2885 - mean_absolute_percentage_error: 478.8208 - root_mean_squared_error: 0.5371 - val_loss: 0.3495 - val_mean_absolute_percentage_error: 262.2886 - val_root_mean_squared_error: 0.5912\n",
      "Epoch 5/50\n",
      "7278/7278 [==============================] - 7s 905us/step - loss: 0.2830 - mean_absolute_percentage_error: 478.4022 - root_mean_squared_error: 0.5320 - val_loss: 0.2840 - val_mean_absolute_percentage_error: 628.6106 - val_root_mean_squared_error: 0.5329\n",
      "Epoch 6/50\n",
      "7278/7278 [==============================] - 6s 877us/step - loss: 0.2787 - mean_absolute_percentage_error: 474.9371 - root_mean_squared_error: 0.5279 - val_loss: 0.2959 - val_mean_absolute_percentage_error: 411.8871 - val_root_mean_squared_error: 0.5440\n",
      "Epoch 7/50\n",
      "7278/7278 [==============================] - 7s 909us/step - loss: 0.2753 - mean_absolute_percentage_error: 468.7023 - root_mean_squared_error: 0.5246 - val_loss: 0.3439 - val_mean_absolute_percentage_error: 834.0544 - val_root_mean_squared_error: 0.5864\n",
      "Epoch 8/50\n",
      "7278/7278 [==============================] - 7s 912us/step - loss: 0.2731 - mean_absolute_percentage_error: 477.5288 - root_mean_squared_error: 0.5226 - val_loss: 0.3599 - val_mean_absolute_percentage_error: 1104.9844 - val_root_mean_squared_error: 0.5999\n",
      "Epoch 9/50\n",
      "7278/7278 [==============================] - 7s 913us/step - loss: 0.2699 - mean_absolute_percentage_error: 467.4572 - root_mean_squared_error: 0.5195 - val_loss: 0.2781 - val_mean_absolute_percentage_error: 624.7180 - val_root_mean_squared_error: 0.5274\n",
      "Epoch 10/50\n",
      "7278/7278 [==============================] - 7s 907us/step - loss: 0.2678 - mean_absolute_percentage_error: 466.4266 - root_mean_squared_error: 0.5175 - val_loss: 0.2714 - val_mean_absolute_percentage_error: 439.8794 - val_root_mean_squared_error: 0.5210\n",
      "Epoch 11/50\n",
      "7278/7278 [==============================] - 7s 905us/step - loss: 0.2643 - mean_absolute_percentage_error: 469.7151 - root_mean_squared_error: 0.5141 - val_loss: 0.2701 - val_mean_absolute_percentage_error: 334.2226 - val_root_mean_squared_error: 0.5198\n",
      "Epoch 12/50\n",
      "7278/7278 [==============================] - 7s 910us/step - loss: 0.2635 - mean_absolute_percentage_error: 462.4579 - root_mean_squared_error: 0.5133 - val_loss: 0.2835 - val_mean_absolute_percentage_error: 420.9966 - val_root_mean_squared_error: 0.5324\n",
      "Epoch 13/50\n",
      "7278/7278 [==============================] - 7s 901us/step - loss: 0.2613 - mean_absolute_percentage_error: 464.6022 - root_mean_squared_error: 0.5112 - val_loss: 0.2784 - val_mean_absolute_percentage_error: 620.9326 - val_root_mean_squared_error: 0.5276\n",
      "Epoch 14/50\n",
      "7278/7278 [==============================] - 7s 898us/step - loss: 0.2599 - mean_absolute_percentage_error: 468.5813 - root_mean_squared_error: 0.5098 - val_loss: 0.3094 - val_mean_absolute_percentage_error: 200.8178 - val_root_mean_squared_error: 0.5563\n",
      "Epoch 15/50\n",
      "7278/7278 [==============================] - 7s 904us/step - loss: 0.2578 - mean_absolute_percentage_error: 454.9028 - root_mean_squared_error: 0.5077 - val_loss: 0.3234 - val_mean_absolute_percentage_error: 241.8696 - val_root_mean_squared_error: 0.5687\n",
      "Epoch 16/50\n",
      "7278/7278 [==============================] - 7s 895us/step - loss: 0.2569 - mean_absolute_percentage_error: 461.1163 - root_mean_squared_error: 0.5068 - val_loss: 0.2983 - val_mean_absolute_percentage_error: 499.8436 - val_root_mean_squared_error: 0.5461\n",
      "Epoch 17/50\n",
      "7278/7278 [==============================] - 6s 886us/step - loss: 0.2546 - mean_absolute_percentage_error: 457.9966 - root_mean_squared_error: 0.5046 - val_loss: 0.3121 - val_mean_absolute_percentage_error: 757.2561 - val_root_mean_squared_error: 0.5586\n",
      "Epoch 18/50\n",
      "7278/7278 [==============================] - 7s 898us/step - loss: 0.2548 - mean_absolute_percentage_error: 458.4385 - root_mean_squared_error: 0.5048 - val_loss: 0.2733 - val_mean_absolute_percentage_error: 546.6577 - val_root_mean_squared_error: 0.5228\n",
      "Epoch 19/50\n",
      "7278/7278 [==============================] - 7s 954us/step - loss: 0.2536 - mean_absolute_percentage_error: 458.0424 - root_mean_squared_error: 0.5036 - val_loss: 0.2784 - val_mean_absolute_percentage_error: 447.8461 - val_root_mean_squared_error: 0.5277\n",
      "Epoch 20/50\n",
      "7278/7278 [==============================] - 7s 900us/step - loss: 0.2518 - mean_absolute_percentage_error: 456.4443 - root_mean_squared_error: 0.5018 - val_loss: 0.2864 - val_mean_absolute_percentage_error: 334.3956 - val_root_mean_squared_error: 0.5352\n",
      "Epoch 21/50\n",
      "7278/7278 [==============================] - 7s 902us/step - loss: 0.2499 - mean_absolute_percentage_error: 459.9786 - root_mean_squared_error: 0.4999 - val_loss: 0.2907 - val_mean_absolute_percentage_error: 284.6475 - val_root_mean_squared_error: 0.5392\n"
     ]
    }
   ],
   "source": [
    "multi_step_dense = tf.keras.Sequential([\n",
    "    # Shape: (time, features) => (time*features)\n",
    "    tf.keras.layers.Flatten(),\n",
    "    tf.keras.layers.Dense(units=128, activation='relu'),\n",
    "    tf.keras.layers.Dense(units=64, activation='relu'),\n",
    "    tf.keras.layers.Dense(units=2),\n",
    "    # Add back the time dimension.\n",
    "    # Shape: (outputs) => (1, outputs)\n",
    "#     tf.keras.layers.Reshape([1, -1]),\n",
    "])\n",
    "\n",
    "\n",
    "history = compile_and_fit(multi_step_dense, X_train, y_train, (X_val, y_val),MAX_EPOCHS= 50)"
   ]
  },
  {
   "cell_type": "markdown",
   "metadata": {},
   "source": [
    "# Predict for Validation dataset"
   ]
  },
  {
   "cell_type": "code",
   "execution_count": 18,
   "metadata": {},
   "outputs": [
    {
     "name": "stdout",
     "output_type": "stream",
     "text": [
      "3119/3119 [==============================] - 2s 559us/step - loss: 0.2907 - mean_absolute_percentage_error: 284.6475 - root_mean_squared_error: 0.5392\n"
     ]
    },
    {
     "data": {
      "text/plain": [
       "[0.29073333740234375, 284.64752197265625, 0.5391969084739685]"
      ]
     },
     "execution_count": 18,
     "metadata": {},
     "output_type": "execute_result"
    }
   ],
   "source": [
    "predicted = multi_step_dense.predict(X_train)\n",
    "evalute =  multi_step_dense.evaluate(X_val, y_val)\n",
    "evalute"
   ]
  },
  {
   "cell_type": "markdown",
   "metadata": {},
   "source": [
    "# Functions for plot diagrams"
   ]
  },
  {
   "cell_type": "code",
   "execution_count": 19,
   "metadata": {},
   "outputs": [],
   "source": [
    "def plotGraph(xTrain, trueVal, predicted):\n",
    "    x1 = [x for x in range(0, 93, 3)]\n",
    "\n",
    "    y1 = np.append(xTrain , trueVal)\n",
    "\n",
    "    plt.subplot(1, 1, 1)\n",
    "    plt.plot(x1, y1, 'o-')\n",
    "\n",
    "    plt.plot(90, predicted, 'go') \n",
    "    plt.xlabel('time (s)')\n",
    "    plt.ylabel('Undamped')\n",
    "\n",
    "    plt.show()\n",
    "    \n",
    "    \n",
    "def plotGraphWithDots(xTrain, trueVal, predicted):\n",
    "    x1 = [x for x in range(0, len(xTrain) * 3 + 3, 3)]\n",
    "    x2 = [x for x in range(0 , len(predicted) * 3, 3)]\n",
    "    \n",
    "    y1 = np.append(xTrain , trueVal)\n",
    "    \n",
    "    plt.subplot(1, 1, 1)\n",
    "    plt.plot(x1, y1, 'o-')\n",
    "    \n",
    "    plt.plot(x2, predicted, 'go') \n",
    "    \n",
    "    plt.xlabel('time (s)')\n",
    "    plt.ylabel('Undamped')\n",
    "\n",
    "    plt.show()"
   ]
  },
  {
   "cell_type": "code",
   "execution_count": null,
   "metadata": {},
   "outputs": [],
   "source": []
  },
  {
   "cell_type": "markdown",
   "metadata": {},
   "source": [
    "# Generate dataset for Test \n",
    "## And prediction for him"
   ]
  },
  {
   "cell_type": "code",
   "execution_count": 20,
   "metadata": {},
   "outputs": [],
   "source": [
    "X_test1, y_test1 = generateDataset(clearedTestShiftedTestData, ENTER_DATA_SIZE=ENTER_DATA_SIZE)"
   ]
  },
  {
   "cell_type": "code",
   "execution_count": 21,
   "metadata": {},
   "outputs": [],
   "source": [
    "#Тестовые данные\n",
    "normalizedClearedTestShiftedData = normalizeData(clearedTestShiftedTestData, clearedShiftedDataMean,clearedShiftedDataStd)\n",
    "X_test, y_test = generateDataset(normalizedClearedTestShiftedData, ENTER_DATA_SIZE=ENTER_DATA_SIZE)\n"
   ]
  },
  {
   "cell_type": "code",
   "execution_count": 24,
   "metadata": {},
   "outputs": [
    {
     "name": "stdout",
     "output_type": "stream",
     "text": [
      "8723/8723 [==============================] - 5s 540us/step - loss: 0.5598 - mean_absolute_percentage_error: 216.7857 - root_mean_squared_error: 0.7482\n"
     ]
    }
   ],
   "source": [
    "multi_step_dense.evaluate(X_test, y_test)\n",
    "predictTestNumpy = multi_step_dense.predict(X_test)\n",
    "predictTest = pd.DataFrame(predictTestNumpy, columns = ['Bytes', 'Packages'])"
   ]
  },
  {
   "cell_type": "markdown",
   "metadata": {},
   "source": [
    "# Functions for calculate MAPE "
   ]
  },
  {
   "cell_type": "code",
   "execution_count": 30,
   "metadata": {},
   "outputs": [
    {
     "name": "stdout",
     "output_type": "stream",
     "text": [
      "MAPE BYTES =  152.0300255691253\n",
      "MAPE PACKAGES =  281.54149950290406\n"
     ]
    }
   ],
   "source": [
    "def percentage_error(actual, predicted):\n",
    "    res = np.empty(actual.shape)\n",
    "    for j in range(actual.shape[0]):\n",
    "        if actual[j] != 0:\n",
    "            res[j] = (actual[j] - predicted[j]) / actual[j]\n",
    "        else:\n",
    "            res[j] = predicted[j] / np.mean(actual)\n",
    "    return res\n",
    "\n",
    "def mean_absolute_percentage_error(y_true, y_pred): \n",
    "    return np.mean(np.abs(percentage_error(np.asarray(y_true), np.asarray(y_pred)))) * 100\n",
    "\n",
    "print(\"MAPE BYTES = \", mean_absolute_percentage_error(y_test[:,0], predictTestNumpy[:,0]))\n",
    "print(\"MAPE PACKAGES = \", mean_absolute_percentage_error(y_test[:,1], predictTestNumpy[:,1]))"
   ]
  },
  {
   "cell_type": "markdown",
   "metadata": {},
   "source": [
    "# Unnormalized test data MAPE"
   ]
  },
  {
   "cell_type": "code",
   "execution_count": 33,
   "metadata": {},
   "outputs": [
    {
     "name": "stdout",
     "output_type": "stream",
     "text": [
      "MAPE BYTES =  178.7845189412035\n",
      "MAPE PACKAGES =  169.83437817239388\n"
     ]
    }
   ],
   "source": [
    "predictedUnNormalized = unNormalizedData(predictTest,clearedShiftedDataMean,clearedShiftedDataStd)\n",
    "\n",
    "y_test_UnNormalized = pd.DataFrame(y_test, columns = ['Bytes', 'Packages'])\n",
    "y_test_UnNormalized = unNormalizedData(y_test_UnNormalized,clearedShiftedDataMean,clearedShiftedDataStd)\n",
    "\n",
    "print(\"MAPE BYTES = \", mean_absolute_percentage_error(np.array(y_test_UnNormalized)[:,0], np.array(predictedUnNormalized)[:,0]))\n",
    "print(\"MAPE PACKAGES = \", mean_absolute_percentage_error(np.array(y_test_UnNormalized)[:,1], np.array(predictedUnNormalized)[:,1]))"
   ]
  },
  {
   "cell_type": "code",
   "execution_count": 34,
   "metadata": {},
   "outputs": [
    {
     "data": {
      "image/png": "[encoded data removed]",
      "text/plain": [
       "<Figure size 432x288 with 1 Axes>"
      ]
     },
     "metadata": {
      "needs_background": "light"
     },
     "output_type": "display_data"
    }
   ],
   "source": [
    "pointIndex=10002\n",
    "plotGraphWithDots(X_test[pointIndex][:,0],y_test[pointIndex][0],\n",
    "                  predicted=predictTest.values[pointIndex - ENTER_DATA_SIZE:pointIndex][:,0])"
   ]
  },
  {
   "cell_type": "markdown",
   "metadata": {},
   "source": [
    "# Save To File"
   ]
  },
  {
   "cell_type": "code",
   "execution_count": 36,
   "metadata": {},
   "outputs": [],
   "source": [
    "predictedUnNormalized.to_csv(\"output_test.csv\", sep=';')"
   ]
  },
  {
   "cell_type": "code",
   "execution_count": 39,
   "metadata": {},
   "outputs": [
    {
     "name": "stdout",
     "output_type": "stream",
     "text": [
      "WARNING:tensorflow:From /Users/denisgaraev/opt/anaconda3/lib/python3.8/site-packages/tensorflow/python/ops/resource_variable_ops.py:1813: calling BaseResourceVariable.__init__ (from tensorflow.python.ops.resource_variable_ops) with constraint is deprecated and will be removed in a future version.\n",
      "Instructions for updating:\n",
      "If using Keras pass *_constraint arguments to layers.\n",
      "INFO:tensorflow:Assets written to: model/assets\n"
     ]
    }
   ],
   "source": [
    "multi_step_dense.save(\"model\")"
   ]
  },
  {
   "cell_type": "code",
   "execution_count": 40,
   "metadata": {},
   "outputs": [
    {
     "name": "stdout",
     "output_type": "stream",
     "text": [
      "Model: \"sequential\"\n",
      "_________________________________________________________________\n",
      "Layer (type)                 Output Shape              Param #   \n",
      "=================================================================\n",
      "flatten (Flatten)            multiple                  0         \n",
      "_________________________________________________________________\n",
      "dense (Dense)                multiple                  7808      \n",
      "_________________________________________________________________\n",
      "dense_1 (Dense)              multiple                  8256      \n",
      "_________________________________________________________________\n",
      "dense_2 (Dense)              multiple                  130       \n",
      "=================================================================\n",
      "Total params: 16,194\n",
      "Trainable params: 16,194\n",
      "Non-trainable params: 0\n",
      "_________________________________________________________________\n"
     ]
    }
   ],
   "source": [
    "multi_step_dense.summary()"
   ]
  },
  {
   "cell_type": "code",
   "execution_count": null,
   "metadata": {},
   "outputs": [],
   "source": []
  }
 ],
 "metadata": {
  "kernelspec": {
   "display_name": "Python 3",
   "language": "python",
   "name": "python3"
  },
  "language_info": {
   "codemirror_mode": {
    "name": "ipython",
    "version": 3
   },
   "file_extension": ".py",
   "mimetype": "text/x-python",
   "name": "python",
   "nbconvert_exporter": "python",
   "pygments_lexer": "ipython3",
   "version": "3.8.3"
  }
 },
 "nbformat": 4,
 "nbformat_minor": 4
}
